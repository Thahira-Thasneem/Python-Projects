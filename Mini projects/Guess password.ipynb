{
 "cells": [
  {
   "cell_type": "markdown",
   "id": "74807cbc-9344-4c76-a964-0815691476f7",
   "metadata": {},
   "source": [
    "# Guess the password "
   ]
  },
  {
   "cell_type": "markdown",
   "id": "7a4f092e-4e7b-4163-926a-afcacc5cc1ae",
   "metadata": {},
   "source": [
    "\n",
    "Simple game to guess the password within the 3 given attempts\n"
   ]
  },
  {
   "cell_type": "code",
   "execution_count": 27,
   "id": "3d9b007e-ce56-4b96-aa00-df3c1d2f75ef",
   "metadata": {},
   "outputs": [
    {
     "name": "stdin",
     "output_type": "stream",
     "text": [
      "Enter the password:  gj\n"
     ]
    },
    {
     "name": "stdout",
     "output_type": "stream",
     "text": [
      "Incorrect password\n"
     ]
    },
    {
     "name": "stdin",
     "output_type": "stream",
     "text": [
      "Enter the password:  ytfg\n"
     ]
    },
    {
     "name": "stdout",
     "output_type": "stream",
     "text": [
      "Incorrect password\n"
     ]
    },
    {
     "name": "stdin",
     "output_type": "stream",
     "text": [
      "Enter the password:  vg\n"
     ]
    },
    {
     "name": "stdout",
     "output_type": "stream",
     "text": [
      "Incorrect password\n",
      "Out of guesses!\n"
     ]
    }
   ],
   "source": [
    "password = 'Tricky'\n",
    "\n",
    "guess_count = 0\n",
    "guess_limit = 3\n",
    "\n",
    "while guess_count!= guess_limit:\n",
    "    guess = input(\"Enter the password: \")\n",
    "    if password == guess:\n",
    "        print(\"The password is correct!\")\n",
    "        break\n",
    "    else:\n",
    "        print(\"Incorrect password\")\n",
    "        guess_count+= 1\n",
    "\n",
    "if guess_count == guess_limit:\n",
    "    print(\"Out of guesses!\")\n",
    "\n"
   ]
  },
  {
   "cell_type": "code",
   "execution_count": 39,
   "id": "5af0a529-1224-45c9-90b8-1363a5bdf452",
   "metadata": {},
   "outputs": [
    {
     "name": "stdin",
     "output_type": "stream",
     "text": [
      "Enter the password:  fg\n",
      "Enter the password:  ko\n",
      "Enter the password:  Tricky\n"
     ]
    },
    {
     "name": "stdout",
     "output_type": "stream",
     "text": [
      "Your password is correct\n"
     ]
    }
   ],
   "source": [
    "password = 'Tricky'\n",
    "\n",
    "guess_count = 0\n",
    "guess_limit = 3\n",
    "guess = ''\n",
    "\n",
    "while (password != guess) and (guess_count != guess_limit):\n",
    "    guess = input(\"Enter the password: \")\n",
    "    guess_count+= 1\n",
    "\n",
    "\n",
    "if password == guess:\n",
    "    print(\"Your password is correct\")\n",
    "elif guess_count == guess_limit:\n",
    "    print(\"Out of guesses\")\n",
    "else:\n",
    "    pass\n"
   ]
  },
  {
   "cell_type": "code",
   "execution_count": null,
   "id": "66cbb560-dea8-4b37-ba47-df332fa3fe71",
   "metadata": {},
   "outputs": [],
   "source": []
  }
 ],
 "metadata": {
  "kernelspec": {
   "display_name": "Python 3 (ipykernel)",
   "language": "python",
   "name": "python3"
  },
  "language_info": {
   "codemirror_mode": {
    "name": "ipython",
    "version": 3
   },
   "file_extension": ".py",
   "mimetype": "text/x-python",
   "name": "python",
   "nbconvert_exporter": "python",
   "pygments_lexer": "ipython3",
   "version": "3.12.4"
  }
 },
 "nbformat": 4,
 "nbformat_minor": 5
}
