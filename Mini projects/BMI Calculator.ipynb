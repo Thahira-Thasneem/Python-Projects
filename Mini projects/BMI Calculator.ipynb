{
 "cells": [
  {
   "cell_type": "markdown",
   "id": "c8cf537a-88e0-40fd-893b-f27e2b71438e",
   "metadata": {},
   "source": [
    "# **BMI Calculator**\n",
    "\n",
    "**BMI Categories:**\n",
    "\n",
    "- Underweight = Under 18.5\n",
    "- Normal = 18.5 - 24.9\n",
    "- Overweight = 25 - 29.9\n",
    "- Obese = 30 or higher"
   ]
  },
  {
   "cell_type": "markdown",
   "id": "fc7d7b7a-a181-4ac6-9059-017776db332e",
   "metadata": {},
   "source": [
    "\n",
    "\n",
    "**BMI using weight(kilogram) and height(meter):**\n",
    "\n",
    "BMI = (weight in kg) / (height in m x height in m)"
   ]
  },
  {
   "cell_type": "code",
   "execution_count": 108,
   "id": "3fc74dd3-3d7a-40b8-84b9-5e29d5f37fa4",
   "metadata": {},
   "outputs": [
    {
     "name": "stdin",
     "output_type": "stream",
     "text": [
      "Enter your weight in kg:  60\n",
      "Enter your height in meter:  1.6\n"
     ]
    },
    {
     "name": "stdout",
     "output_type": "stream",
     "text": [
      "Your BMI is 23.44\n",
      "You are normal.\n"
     ]
    }
   ],
   "source": [
    "weight = float(input(\"Enter your weight in kg: \"))\n",
    "\n",
    "height = float(input(\"Enter your height in meter: \"))\n",
    "\n",
    "\n",
    "BMI = round((weight / (height * height)) , 2) \n",
    "\n",
    "if BMI > 0:\n",
    "    print(\"Your BMI is \" + str(BMI))\n",
    "    \n",
    "    if BMI < 18.5:\n",
    "        print(\"You are underweight.\")\n",
    "    elif BMI >= 18.5 and BMI <= 24.99:\n",
    "        print(\"You are normal.\")\n",
    "    elif BMI >= 25 and BMI <= 29.99:\n",
    "        print(\"You are overweight.\")\n",
    "    else:\n",
    "        print(\"You are obese!\")\n",
    "else:\n",
    "    print(\"Enter valid input!\")\n",
    "    "
   ]
  },
  {
   "cell_type": "code",
   "execution_count": null,
   "id": "afb33d75-7b1a-41cc-9a16-ee97c5a1396d",
   "metadata": {},
   "outputs": [],
   "source": []
  }
 ],
 "metadata": {
  "kernelspec": {
   "display_name": "Python 3 (ipykernel)",
   "language": "python",
   "name": "python3"
  },
  "language_info": {
   "codemirror_mode": {
    "name": "ipython",
    "version": 3
   },
   "file_extension": ".py",
   "mimetype": "text/x-python",
   "name": "python",
   "nbconvert_exporter": "python",
   "pygments_lexer": "ipython3",
   "version": "3.12.4"
  }
 },
 "nbformat": 4,
 "nbformat_minor": 5
}
