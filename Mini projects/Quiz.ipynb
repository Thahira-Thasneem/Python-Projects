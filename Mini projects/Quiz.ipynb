{
 "cells": [
  {
   "cell_type": "markdown",
   "id": "20362756-34d8-4338-81ed-53ad1166122c",
   "metadata": {},
   "source": [
    "# Quiz"
   ]
  },
  {
   "cell_type": "markdown",
   "id": "6f7b3043-48b2-4a3f-b1b1-20446613d798",
   "metadata": {},
   "source": [
    "A simple quiz using dictionaries concept"
   ]
  },
  {
   "cell_type": "code",
   "execution_count": 15,
   "id": "1e48ef5d-809f-4c5b-9b82-6ea2624ffb6f",
   "metadata": {},
   "outputs": [
    {
     "name": "stdout",
     "output_type": "stream",
     "text": [
      "\n",
      " 1. What is the house made of ice?\n"
     ]
    },
    {
     "name": "stdin",
     "output_type": "stream",
     "text": [
      "Ans:  IGLOO\n"
     ]
    },
    {
     "name": "stdout",
     "output_type": "stream",
     "text": [
      "Correct!\n",
      "\n",
      " 2. Which country is shaped like an elephant's head?\n"
     ]
    },
    {
     "name": "stdin",
     "output_type": "stream",
     "text": [
      "Ans:  thailand\n"
     ]
    },
    {
     "name": "stdout",
     "output_type": "stream",
     "text": [
      "Correct!\n",
      "\n",
      " 3. Which country has the highest population?\n"
     ]
    },
    {
     "name": "stdin",
     "output_type": "stream",
     "text": [
      "Ans:  chINA\n"
     ]
    },
    {
     "name": "stdout",
     "output_type": "stream",
     "text": [
      "Correct!\n",
      "\n",
      " 4. Which planet is closest to Earth?\n"
     ]
    },
    {
     "name": "stdin",
     "output_type": "stream",
     "text": [
      "Ans:  jupiter\n"
     ]
    },
    {
     "name": "stdout",
     "output_type": "stream",
     "text": [
      "Incorrect\n",
      "\n",
      " 5. Which is the largest island in the world?\n"
     ]
    },
    {
     "name": "stdin",
     "output_type": "stream",
     "text": [
      "Ans:  Greenland\n"
     ]
    },
    {
     "name": "stdout",
     "output_type": "stream",
     "text": [
      "Correct!\n",
      "\n",
      " Your Score is 4 out of 5\n"
     ]
    }
   ],
   "source": [
    "\n",
    "\n",
    "questions = {\n",
    "    \"Q1\" :\n",
    "        { \"Question\" : \"1. What is the house made of ice?\", \n",
    "          \"Answer\" : \"Igloo\" },\n",
    "    \"Q2\" :\n",
    "        { \"Question\" : \"2. Which country is shaped like an elephant's head?\", \n",
    "          \"Answer\" : \"Thailand\" },\n",
    "    \"Q3\" :\n",
    "        { \"Question\" : \"3. Which country has the highest population?\", \n",
    "          \"Answer\" : \"China\" },\n",
    "    \"Q4\" :\n",
    "        { \"Question\" : \"4. Which planet is closest to Earth?\", \n",
    "          \"Answer\" : \"Venus\" },\n",
    "    \"Q5\" :\n",
    "        { \"Question\" : \"5. Which is the largest island in the world?\", \n",
    "          \"Answer\" : \"Greenland\" }\n",
    "}\n",
    "\n",
    "score = 0\n",
    "\n",
    "for key, value in questions.items():\n",
    "    print(\"\\n\" ,value['Question'])\n",
    "    answer = input(\"Ans: \")\n",
    "    \n",
    "    if value['Answer'].lower() == answer.lower():\n",
    "        print(\"Correct!\")\n",
    "        score += 1\n",
    "    else:\n",
    "        print(\"Incorrect\")\n",
    "   \n",
    "print (\"\\n Your Score is \" + str(score) + \" out of 5\")\n",
    "    \n",
    "    \n",
    "    \n",
    "    "
   ]
  },
  {
   "cell_type": "code",
   "execution_count": null,
   "id": "6c9d5d40-843d-45f4-8882-db41726cbe95",
   "metadata": {},
   "outputs": [],
   "source": []
  }
 ],
 "metadata": {
  "kernelspec": {
   "display_name": "Python 3 (ipykernel)",
   "language": "python",
   "name": "python3"
  },
  "language_info": {
   "codemirror_mode": {
    "name": "ipython",
    "version": 3
   },
   "file_extension": ".py",
   "mimetype": "text/x-python",
   "name": "python",
   "nbconvert_exporter": "python",
   "pygments_lexer": "ipython3",
   "version": "3.12.4"
  }
 },
 "nbformat": 4,
 "nbformat_minor": 5
}
